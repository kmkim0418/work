{
  "nbformat": 4,
  "nbformat_minor": 0,
  "metadata": {
    "colab": {
      "provenance": [],
      "authorship_tag": "ABX9TyNMAqbCLqSbWOKFK0CjJjYA",
      "include_colab_link": true
    },
    "kernelspec": {
      "name": "python3",
      "display_name": "Python 3"
    },
    "language_info": {
      "name": "python"
    }
  },
  "cells": [
    {
      "cell_type": "markdown",
      "metadata": {
        "id": "view-in-github",
        "colab_type": "text"
      },
      "source": [
        "<a href=\"https://colab.research.google.com/github/kmkim0418/work/blob/main/seoulbike.ipynb\" target=\"_parent\"><img src=\"https://colab.research.google.com/assets/colab-badge.svg\" alt=\"Open In Colab\"/></a>"
      ]
    },
    {
      "cell_type": "code",
      "source": [
        "import requests\n",
        "r = requests.get('http://openapi.seoul.go.kr:8088/4948556d736b6d6b39354c57727055/json/bikeListHist/1/5/2024032501')\n",
        "print(r.json())\n",
        "j=r.json()\n"
      ],
      "metadata": {
        "colab": {
          "base_uri": "https://localhost:8080/"
        },
        "id": "0ORIcbxvZFZx",
        "outputId": "176f1e56-a21e-4623-e5a7-5a52ae7724c8"
      },
      "execution_count": 5,
      "outputs": [
        {
          "output_type": "stream",
          "name": "stdout",
          "text": [
            "{'getStationListHist': {'list_total_count': 5, 'RESULT': {'CODE': 'INFO-000', 'MESSAGE': '정상 처리되었습니다.'}, 'row': [{'rackTotCnt': '10', 'stationName': '108. 서교동 사거리', 'parkingBikeTotCnt': '17', 'shared': '170', 'stationLatitude': '37.55274582', 'stationLongitude': '126.91861725', 'stationId': 'ST-10', 'stationDt': '2024032501'}, {'rackTotCnt': '15', 'stationName': '503. 더샵스타시티 C동 앞', 'parkingBikeTotCnt': '0', 'shared': '0', 'stationLatitude': '37.53666687', 'stationLongitude': '127.07359314', 'stationId': 'ST-100', 'stationDt': '2024032501'}, {'rackTotCnt': '10', 'stationName': '729. 서부식자재마트 건너편', 'parkingBikeTotCnt': '31', 'shared': '310', 'stationLatitude': '37.51037979', 'stationLongitude': '126.86679840', 'stationId': 'ST-1000', 'stationDt': '2024032501'}, {'rackTotCnt': '10', 'stationName': '731. 서울시 도로환경관리센터', 'parkingBikeTotCnt': '30', 'shared': '300', 'stationLatitude': '37.52989960', 'stationLongitude': '126.87654114', 'stationId': 'ST-1002', 'stationDt': '2024032501'}, {'rackTotCnt': '10', 'stationName': '732. 신월중학교', 'parkingBikeTotCnt': '2', 'shared': '20', 'stationLatitude': '37.53955078', 'stationLongitude': '126.82830048', 'stationId': 'ST-1003', 'stationDt': '2024032501'}]}}\n"
          ]
        }
      ]
    },
    {
      "cell_type": "code",
      "source": [
        "for x in j['getStationListHist']['row']:\n",
        "  print(x['stationName'], x['shared'])"
      ],
      "metadata": {
        "colab": {
          "base_uri": "https://localhost:8080/"
        },
        "id": "DO8Cs901ZeHR",
        "outputId": "53af5114-b8df-46e6-f1b0-7c56d42ff50c"
      },
      "execution_count": 7,
      "outputs": [
        {
          "output_type": "stream",
          "name": "stdout",
          "text": [
            "108. 서교동 사거리 170\n",
            "503. 더샵스타시티 C동 앞 0\n",
            "729. 서부식자재마트 건너편 310\n",
            "731. 서울시 도로환경관리센터 300\n",
            "732. 신월중학교 20\n"
          ]
        }
      ]
    }
  ]
}