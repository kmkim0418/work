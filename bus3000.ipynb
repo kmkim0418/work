{
  "nbformat": 4,
  "nbformat_minor": 0,
  "metadata": {
    "colab": {
      "provenance": [],
      "authorship_tag": "ABX9TyP6JToWHmFnDonFPx70Y5cN",
      "include_colab_link": true
    },
    "kernelspec": {
      "name": "python3",
      "display_name": "Python 3"
    },
    "language_info": {
      "name": "python"
    }
  },
  "cells": [
    {
      "cell_type": "markdown",
      "metadata": {
        "id": "view-in-github",
        "colab_type": "text"
      },
      "source": [
        "<a href=\"https://colab.research.google.com/github/kmkim0418/work/blob/main/bus3000.ipynb\" target=\"_parent\"><img src=\"https://colab.research.google.com/assets/colab-badge.svg\" alt=\"Open In Colab\"/></a>"
      ]
    },
    {
      "cell_type": "code",
      "execution_count": null,
      "metadata": {
        "colab": {
          "base_uri": "https://localhost:8080/"
        },
        "id": "niwIfbTU6Nio",
        "outputId": "c8b18837-8865-4e7f-8ef0-eda8b05910cc"
      },
      "outputs": [
        {
          "output_type": "stream",
          "name": "stdout",
          "text": [
            "<?xml version=\"1.0\" encoding=\"UTF-8\" standalone=\"yes\"?><response><comMsgHeader/><msgHeader><queryTime>2024-03-17 20:57:23.662</queryTime><resultCode>0</resultCode><resultMessage>정상적으로 처리되었습니다.</resultMessage></msgHeader><msgBody><busLocationList><endBus>0</endBus><lowPlate>0</lowPlate><plateNo>경기70사1117</plateNo><plateType>3</plateType><remainSeatCnt>24</remainSeatCnt><routeId>200000104</routeId><stationId>200000195</stationId><stationSeq>64</stationSeq></busLocationList><busLocationList><endBus>0</endBus><lowPlate>0</lowPlate><plateNo>경기70사1683</plateNo><plateType>3</plateType><remainSeatCnt>29</remainSeatCnt><routeId>200000104</routeId><stationId>202000230</stationId><stationSeq>13</stationSeq></busLocationList><busLocationList><endBus>0</endBus><lowPlate>0</lowPlate><plateNo>경기70사1115</plateNo><plateType>3</plateType><remainSeatCnt>44</remainSeatCnt><routeId>200000104</routeId><stationId>201000022</stationId><stationSeq>5</stationSeq></busLocationList><busLocationList><endBus>0</endBus><lowPlate>0</lowPlate><plateNo>경기70사1642</plateNo><plateType>3</plateType><remainSeatCnt>34</remainSeatCnt><routeId>200000104</routeId><stationId>226000038</stationId><stationSeq>56</stationSeq></busLocationList><busLocationList><endBus>0</endBus><lowPlate>0</lowPlate><plateNo>경기70사1149</plateNo><plateType>3</plateType><remainSeatCnt>39</remainSeatCnt><routeId>200000104</routeId><stationId>277103221</stationId><stationSeq>27</stationSeq></busLocationList><busLocationList><endBus>0</endBus><lowPlate>0</lowPlate><plateNo>경기70사1116</plateNo><plateType>3</plateType><remainSeatCnt>34</remainSeatCnt><routeId>200000104</routeId><stationId>200000271</stationId><stationSeq>69</stationSeq></busLocationList><busLocationList><endBus>0</endBus><lowPlate>0</lowPlate><plateNo>경기70사1196</plateNo><plateType>3</plateType><remainSeatCnt>30</remainSeatCnt><routeId>200000104</routeId><stationId>220000011</stationId><stationSeq>50</stationSeq></busLocationList><busLocationList><endBus>0</endBus><lowPlate>0</lowPlate><plateNo>경기70사1176</plateNo><plateType>3</plateType><remainSeatCnt>24</remainSeatCnt><routeId>200000104</routeId><stationId>121000920</stationId><stationSeq>42</stationSeq></busLocationList><busLocationList><endBus>0</endBus><lowPlate>0</lowPlate><plateNo>경기70사1682</plateNo><plateType>3</plateType><remainSeatCnt>32</remainSeatCnt><routeId>200000104</routeId><stationId>121000210</stationId><stationSeq>33</stationSeq></busLocationList><busLocationList><endBus>0</endBus><lowPlate>0</lowPlate><plateNo>경기70사1685</plateNo><plateType>3</plateType><remainSeatCnt>40</remainSeatCnt><routeId>200000104</routeId><stationId>201000018</stationId><stationSeq>79</stationSeq></busLocationList></msgBody></response>\n"
          ]
        }
      ],
      "source": [
        "import requests\n",
        "url='http://apis.data.go.kr/6410000/buslocationservice/getBusLocationList?serviceKey=NX27TU912%2Fk4aFeGKJQINXcHGyNZshD62H2jo4IFcYfIbkpKf%2B4XR3yX6t7YMzVjmlg0gzJyTTKR2K1YN5cLpw%3D%3D&routeId=200000104'\n",
        "#url='http://openapi.gbis.go.kr/ws/rest/buslocationservice?serviceKey=1234567890&routeId=200000104'\n",
        "r = requests.get(url)\n",
        "print(r.text)"
      ]
    },
    {
      "cell_type": "code",
      "source": [
        "from google.colab import drive\n",
        "drive.mount('/content/drive')"
      ],
      "metadata": {
        "id": "C4X7p-seTbYk"
      },
      "execution_count": null,
      "outputs": []
    },
    {
      "cell_type": "code",
      "source": [
        "from bs4 import BeautifulSoup\n",
        "\n",
        "soup = BeautifulSoup(r.text, features=\"xml\")"
      ],
      "metadata": {
        "id": "JtdLEjDEyn_k"
      },
      "execution_count": null,
      "outputs": []
    },
    {
      "cell_type": "code",
      "source": [
        "soup.find_all('stationId')"
      ],
      "metadata": {
        "colab": {
          "base_uri": "https://localhost:8080/"
        },
        "id": "0xNW8ngJyqiM",
        "outputId": "c72fc112-bcc3-42a8-e74f-fc8ea79d85a2"
      },
      "execution_count": null,
      "outputs": [
        {
          "output_type": "execute_result",
          "data": {
            "text/plain": [
              "[<stationId>200000195</stationId>,\n",
              " <stationId>202000230</stationId>,\n",
              " <stationId>201000022</stationId>,\n",
              " <stationId>226000038</stationId>,\n",
              " <stationId>277103221</stationId>,\n",
              " <stationId>200000271</stationId>,\n",
              " <stationId>220000011</stationId>,\n",
              " <stationId>121000920</stationId>,\n",
              " <stationId>121000210</stationId>,\n",
              " <stationId>201000018</stationId>]"
            ]
          },
          "metadata": {},
          "execution_count": 13
        }
      ]
    }
  ]
}